{
 "cells": [
  {
   "cell_type": "code",
   "execution_count": 23,
   "metadata": {},
   "outputs": [
    {
     "data": {
      "application/vnd.jupyter.widget-view+json": {
       "model_id": "9e41fefb65bb4c378c3c38bcd1b8f2a6",
       "version_major": 2,
       "version_minor": 0
      },
      "text/plain": [
       "VBox(children=(Sparkline(data={'values': [10, 8, 5, 7, 4, 4, 1], 'type': 'bar'}), Output()))"
      ]
     },
     "metadata": {},
     "output_type": "display_data"
    }
   ],
   "source": [
    "import ipywidgets as widgets\n",
    "from jupyter_widget_sparkline import Sparkline\n",
    "sparkline = Sparkline()\n",
    "sparkline.data = { 'values': [10,8,5,7,4,4,1], 'type':'bar'}\n",
    "output = widgets.Output()\n",
    "def region_changed(change):\n",
    "    with output:\n",
    "        output.clear_output()\n",
    "        print(change['new'])\n",
    "sparkline.observe(region_changed, names='region')\n",
    "\n",
    "widgets.VBox([sparkline, output])"
   ]
  },
  {
   "cell_type": "code",
   "execution_count": 27,
   "metadata": {},
   "outputs": [
    {
     "data": {
      "application/vnd.jupyter.widget-view+json": {
       "model_id": "eb1f5d69192945a8b5022aa734a43390",
       "version_major": 2,
       "version_minor": 0
      },
      "text/plain": [
       "VBox(children=(Sparkline(data={'values': [10, 8, 5, 7, 4, 4, 1], 'type': 'line'}), Output()))"
      ]
     },
     "metadata": {},
     "output_type": "display_data"
    }
   ],
   "source": [
    "sparkline2 = Sparkline()\n",
    "output2 = widgets.Output()\n",
    "def region_changed2(change):\n",
    "    with output2:\n",
    "        output2.clear_output()\n",
    "        print(change['new'])\n",
    "sparkline2.data = { 'values': [10,8,5,7,4,4,1], 'type':'line'}\n",
    "sparkline2.observe(region_changed2, names='region')\n",
    "\n",
    "widgets.VBox([sparkline2, output2])"
   ]
  },
  {
   "cell_type": "code",
   "execution_count": 28,
   "metadata": {},
   "outputs": [],
   "source": [
    "sparkline.data = { 'values': [10,8,5,7,4,4,1], 'type':'line'}"
   ]
  },
  {
   "cell_type": "code",
   "execution_count": 29,
   "metadata": {},
   "outputs": [],
   "source": [
    "sparkline2.data = { 'values': [10,8,5,7,4,4,1], 'type':'bar'}"
   ]
  },
  {
   "cell_type": "code",
   "execution_count": 30,
   "metadata": {},
   "outputs": [
    {
     "data": {
      "application/vnd.jupyter.widget-view+json": {
       "model_id": "ad2651fc493e420fbda16c89212ca569",
       "version_major": 2,
       "version_minor": 0
      },
      "text/plain": [
       "Sparkline(data={'values': [10, 8, 5, 7, 11, 1, 11], 'type': 'line'})"
      ]
     },
     "metadata": {},
     "output_type": "display_data"
    }
   ],
   "source": [
    "sparkline3 = Sparkline()\n",
    "sparkline3.data = { 'values': [10,8,5,7,11,1,11], 'type':'line'}\n",
    "display(sparkline3)"
   ]
  }
 ],
 "metadata": {
  "kernelspec": {
   "display_name": "Python 3",
   "language": "python",
   "name": "python3"
  },
  "language_info": {
   "codemirror_mode": {
    "name": "ipython",
    "version": 3
   },
   "file_extension": ".py",
   "mimetype": "text/x-python",
   "name": "python",
   "nbconvert_exporter": "python",
   "pygments_lexer": "ipython3",
   "version": "3.8.5"
  }
 },
 "nbformat": 4,
 "nbformat_minor": 4
}
