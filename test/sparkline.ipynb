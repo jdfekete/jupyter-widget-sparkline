{
 "cells": [
  {
   "cell_type": "markdown",
   "metadata": {},
   "source": [
    "Create a simple Sparkline widget and display it"
   ]
  },
  {
   "cell_type": "code",
   "execution_count": 4,
   "metadata": {},
   "outputs": [
    {
     "data": {
      "application/vnd.jupyter.widget-view+json": {
       "model_id": "5f302805bad84315902b0540cf777ffe",
       "version_major": 2,
       "version_minor": 0
      },
      "text/plain": [
       "Sparkline(options={'type': 'bar'}, values=[10, 8, 5, 7, 4, 4, 1])"
      ]
     },
     "metadata": {},
     "output_type": "display_data"
    }
   ],
   "source": [
    "from jupyter_widget_sparkline import Sparkline\n",
    "sparkline = Sparkline()\n",
    "sparkline.values = [10,8,5,7,4,4,1]\n",
    "sparkline.options = {'type': 'bar'}\n",
    "display(sparkline)"
   ]
  },
  {
   "cell_type": "markdown",
   "metadata": {},
   "source": [
    "Create a simple Sparkline and observe when users click on a mark.\n",
    "Initially, since a line chart is shown, clicking on it does not trigger any region change since there is no region per se.\n",
    "However, when changing the type to 'bar' later, the regions will be tracked interactively."
   ]
  },
  {
   "cell_type": "code",
   "execution_count": 5,
   "metadata": {},
   "outputs": [
    {
     "data": {
      "application/vnd.jupyter.widget-view+json": {
       "model_id": "5866eb5b66ae484091e58848546b0a8b",
       "version_major": 2,
       "version_minor": 0
      },
      "text/plain": [
       "VBox(children=(Sparkline(values=[10, 8, 5, 7, 4, 4, 1]), Output()))"
      ]
     },
     "metadata": {},
     "output_type": "display_data"
    }
   ],
   "source": [
    "import ipywidgets as widgets\n",
    "sparkline2 = Sparkline()\n",
    "output2 = widgets.Output()\n",
    "def region_changed2(change):\n",
    "    with output2:\n",
    "        output2.clear_output()\n",
    "        print(change['new'])\n",
    "sparkline2.values = [10,8,5,7,4,4,1]\n",
    "sparkline2.option = {'type': 'line'}\n",
    "sparkline2.observe(region_changed2, names='region')\n",
    "\n",
    "widgets.VBox([sparkline2, output2])"
   ]
  },
  {
   "cell_type": "markdown",
   "metadata": {},
   "source": [
    "The data can be changed dynamically and the views are updated."
   ]
  },
  {
   "cell_type": "code",
   "execution_count": 6,
   "metadata": {},
   "outputs": [],
   "source": [
    "sparkline.options ={'type':'line'}\n",
    "sparkline2.options = { 'type':'bar'}"
   ]
  },
  {
   "cell_type": "markdown",
   "metadata": {},
   "source": [
    "Many sparklines can be used in a tight space"
   ]
  },
  {
   "cell_type": "code",
   "execution_count": 7,
   "metadata": {},
   "outputs": [
    {
     "data": {
      "application/vnd.jupyter.widget-view+json": {
       "model_id": "deb80c6dea1440f7a0525462a7b185cc",
       "version_major": 2,
       "version_minor": 0
      },
      "text/plain": [
       "HBox(children=(Sparkline(options={'type': 'line'}, values=[10, 8, 5, 7, 4, 4, 1]), Sparkline(options={'type': …"
      ]
     },
     "metadata": {},
     "output_type": "display_data"
    }
   ],
   "source": [
    "h = widgets.HBox([sparkline, sparkline2])\n",
    "h"
   ]
  },
  {
   "cell_type": "markdown",
   "metadata": {},
   "source": [
    "And the multiple views are updated"
   ]
  },
  {
   "cell_type": "code",
   "execution_count": 10,
   "metadata": {},
   "outputs": [
    {
     "data": {
      "application/vnd.jupyter.widget-view+json": {
       "model_id": "491755ecbcc8477e9d1ad01e13f59d2f",
       "version_major": 2,
       "version_minor": 0
      },
      "text/plain": [
       "HBox(children=(Sparkline(options={'type': 'line', 'width': '100%'}, values=[10, 8, 5, 7, 4, 4, 1]),), layout=L…"
      ]
     },
     "metadata": {},
     "output_type": "display_data"
    }
   ],
   "source": [
    "h2 = widgets.HBox([sparkline], layout=widgets.Layout(width='500px', height='80px'))\n",
    "h2"
   ]
  },
  {
   "cell_type": "code",
   "execution_count": 11,
   "metadata": {},
   "outputs": [],
   "source": [
    "sparkline.progress =  40\n",
    "sparkline.options = {'width': '100%'}"
   ]
  },
  {
   "cell_type": "code",
   "execution_count": 9,
   "metadata": {},
   "outputs": [
    {
     "data": {
      "application/vnd.jupyter.widget-view+json": {
       "model_id": "79a16af76caf44df9735996c4d5ec8eb",
       "version_major": 2,
       "version_minor": 0
      },
      "text/plain": [
       "IntSlider(value=0)"
      ]
     },
     "metadata": {},
     "output_type": "display_data"
    }
   ],
   "source": [
    "w = widgets.IntSlider(style = {'width': '200px'})\n",
    "display(w)"
   ]
  },
  {
   "cell_type": "code",
   "execution_count": null,
   "metadata": {},
   "outputs": [],
   "source": []
  }
 ],
 "metadata": {
  "kernelspec": {
   "display_name": "Python 3",
   "language": "python",
   "name": "python3"
  },
  "language_info": {
   "codemirror_mode": {
    "name": "ipython",
    "version": 3
   },
   "file_extension": ".py",
   "mimetype": "text/x-python",
   "name": "python",
   "nbconvert_exporter": "python",
   "pygments_lexer": "ipython3",
   "version": "3.8.5"
  }
 },
 "nbformat": 4,
 "nbformat_minor": 4
}
