{
 "cells": [
  {
   "cell_type": "code",
   "execution_count": 1,
   "metadata": {},
   "outputs": [
    {
     "data": {
      "application/vnd.jupyter.widget-view+json": {
       "model_id": "edd48dd2a3f643ae98976e8611a8f7a5",
       "version_major": 2,
       "version_minor": 0
      },
      "text/plain": [
       "Sparkline(data={'values': [10, 8, 5, 7, 4, 4, 1], 'type': 'bar'})"
      ]
     },
     "metadata": {},
     "output_type": "display_data"
    }
   ],
   "source": [
    "from jupyter_widget_sparkline import Sparkline\n",
    "sparkline = Sparkline()\n",
    "sparkline.data = { 'values': [10,8,5,7,4,4,1], 'type':'bar'}\n",
    "display(sparkline)"
   ]
  },
  {
   "cell_type": "code",
   "execution_count": 2,
   "metadata": {},
   "outputs": [],
   "source": [
    "sparkline.data = { 'values': [10,8,5,7,4,4,1], 'type':'line'}"
   ]
  },
  {
   "cell_type": "code",
   "execution_count": null,
   "metadata": {},
   "outputs": [],
   "source": []
  }
 ],
 "metadata": {
  "kernelspec": {
   "display_name": "Python 3",
   "language": "python",
   "name": "python3"
  },
  "language_info": {
   "codemirror_mode": {
    "name": "ipython",
    "version": 3
   },
   "file_extension": ".py",
   "mimetype": "text/x-python",
   "name": "python",
   "nbconvert_exporter": "python",
   "pygments_lexer": "ipython3",
   "version": "3.8.5"
  }
 },
 "nbformat": 4,
 "nbformat_minor": 4
}
