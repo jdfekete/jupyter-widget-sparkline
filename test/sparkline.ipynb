{
 "cells": [
  {
   "cell_type": "markdown",
   "metadata": {},
   "source": [
    "Create a simple Sparkline widget and display it"
   ]
  },
  {
   "cell_type": "code",
   "execution_count": 1,
   "metadata": {},
   "outputs": [
    {
     "data": {
      "application/vnd.jupyter.widget-view+json": {
       "model_id": "d32f683680764973be930cd1bde3661f",
       "version_major": 2,
       "version_minor": 0
      },
      "text/plain": [
       "Sparkline(data={'values': [10, 8, 5, 7, 4, 4, 1], 'type': 'bar'})"
      ]
     },
     "metadata": {},
     "output_type": "display_data"
    }
   ],
   "source": [
    "from jupyter_widget_sparkline import Sparkline\n",
    "sparkline = Sparkline()\n",
    "sparkline.data = { 'values': [10,8,5,7,4,4,1], 'type':'bar'}\n",
    "display(sparkline)"
   ]
  },
  {
   "cell_type": "markdown",
   "metadata": {},
   "source": [
    "Create a simple Sparkline and observe when users click on a mark.\n",
    "Initially, since a line chart is shown, clicking on it does not trigger any region change since there is no region per se.\n",
    "However, when changing the type to 'bar' later, the regions will be tracked interactively."
   ]
  },
  {
   "cell_type": "code",
   "execution_count": 2,
   "metadata": {},
   "outputs": [
    {
     "data": {
      "application/vnd.jupyter.widget-view+json": {
       "model_id": "0de8d9d599cb4a718d9da0139fc7674f",
       "version_major": 2,
       "version_minor": 0
      },
      "text/plain": [
       "VBox(children=(Sparkline(data={'values': [10, 8, 5, 7, 4, 4, 1], 'type': 'line'}), Output()))"
      ]
     },
     "metadata": {},
     "output_type": "display_data"
    }
   ],
   "source": [
    "import ipywidgets as widgets\n",
    "sparkline2 = Sparkline()\n",
    "output2 = widgets.Output()\n",
    "def region_changed2(change):\n",
    "    with output2:\n",
    "        output2.clear_output()\n",
    "        print(change['new'])\n",
    "sparkline2.data = { 'values': [10,8,5,7,4,4,1], 'type':'line'}\n",
    "sparkline2.observe(region_changed2, names='region')\n",
    "\n",
    "widgets.VBox([sparkline2, output2])"
   ]
  },
  {
   "cell_type": "markdown",
   "metadata": {},
   "source": [
    "The data can be changed dynamically and the views are updated."
   ]
  },
  {
   "cell_type": "code",
   "execution_count": 3,
   "metadata": {},
   "outputs": [],
   "source": [
    "sparkline.data = { 'values': [10,8,5,7,4,4,1], 'type':'line'}\n",
    "sparkline2.data = { 'values': [10,8,5,7,4,4,1], 'type':'bar'}"
   ]
  },
  {
   "cell_type": "markdown",
   "metadata": {},
   "source": [
    "Many sparklines can be used in a tight space"
   ]
  },
  {
   "cell_type": "code",
   "execution_count": 4,
   "metadata": {},
   "outputs": [
    {
     "data": {
      "application/vnd.jupyter.widget-view+json": {
       "model_id": "e9b2e432169f4e58b8a87ed333416da2",
       "version_major": 2,
       "version_minor": 0
      },
      "text/plain": [
       "HBox(children=(Sparkline(data={'values': [10, 8, 5, 7, 4, 4, 1], 'type': 'line'}), Sparkline(data={'values': […"
      ]
     },
     "metadata": {},
     "output_type": "display_data"
    }
   ],
   "source": [
    "widgets.HBox([sparkline, sparkline2])"
   ]
  },
  {
   "cell_type": "markdown",
   "metadata": {},
   "source": [
    "And the multiple views are updated"
   ]
  },
  {
   "cell_type": "code",
   "execution_count": 5,
   "metadata": {},
   "outputs": [],
   "source": [
    "sparkline.data = { 'values': [10,8,5,7,4,4,1], 'type':'discrete'}"
   ]
  }
 ],
 "metadata": {
  "kernelspec": {
   "display_name": "Python 3",
   "language": "python",
   "name": "python3"
  },
  "language_info": {
   "codemirror_mode": {
    "name": "ipython",
    "version": 3
   },
   "file_extension": ".py",
   "mimetype": "text/x-python",
   "name": "python",
   "nbconvert_exporter": "python",
   "pygments_lexer": "ipython3",
   "version": "3.8.5"
  }
 },
 "nbformat": 4,
 "nbformat_minor": 4
}
