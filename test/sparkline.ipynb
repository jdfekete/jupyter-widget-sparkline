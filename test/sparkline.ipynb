{
 "cells": [
  {
   "cell_type": "code",
   "execution_count": 1,
   "metadata": {},
   "outputs": [
    {
     "data": {
      "application/vnd.jupyter.widget-view+json": {
       "model_id": "246f3cb0a26e48a19f066e053e32f7d1",
       "version_major": 2,
       "version_minor": 0
      },
      "text/plain": [
       "Sparkline(data={'values': [10, 8, 5, 7, 4, 4, 1], 'type': 'bar'})"
      ]
     },
     "metadata": {},
     "output_type": "display_data"
    }
   ],
   "source": [
    "from jupyter_widget_sparkline import Sparkline\n",
    "sparkline = Sparkline()\n",
    "sparkline.data = { 'values': [10,8,5,7,4,4,1], 'type':'bar'}\n",
    "display(sparkline)"
   ]
  },
  {
   "cell_type": "code",
   "execution_count": 2,
   "metadata": {},
   "outputs": [
    {
     "data": {
      "application/vnd.jupyter.widget-view+json": {
       "model_id": "aa9618dd295f4339bd4563094f154670",
       "version_major": 2,
       "version_minor": 0
      },
      "text/plain": [
       "Sparkline(data={'values': [10, 8, 5, 7, 4, 4, 1], 'type': 'line'})"
      ]
     },
     "metadata": {},
     "output_type": "display_data"
    }
   ],
   "source": [
    "sparkline2 = Sparkline()\n",
    "sparkline2.data = { 'values': [10,8,5,7,4,4,1], 'type':'line'}\n",
    "display(sparkline2)"
   ]
  },
  {
   "cell_type": "code",
   "execution_count": 3,
   "metadata": {},
   "outputs": [],
   "source": [
    "sparkline.data = { 'values': [10,8,5,7,4,4,1], 'type':'line'}"
   ]
  },
  {
   "cell_type": "code",
   "execution_count": 4,
   "metadata": {},
   "outputs": [],
   "source": [
    "sparkline2.data = { 'values': [10,8,5,7,4,4,1], 'type':'bar'}"
   ]
  },
  {
   "cell_type": "code",
   "execution_count": 5,
   "metadata": {},
   "outputs": [
    {
     "data": {
      "application/vnd.jupyter.widget-view+json": {
       "model_id": "1fd52350783746ab81445b6cd83fcdae",
       "version_major": 2,
       "version_minor": 0
      },
      "text/plain": [
       "Sparkline(data={'values': [10, 8, 5, 7, 11, 1, 11], 'type': 'line'})"
      ]
     },
     "metadata": {},
     "output_type": "display_data"
    }
   ],
   "source": [
    "sparkline3 = Sparkline()\n",
    "sparkline3.data = { 'values': [10,8,5,7,11,1,11], 'type':'line'}\n",
    "display(sparkline3)"
   ]
  }
 ],
 "metadata": {
  "kernelspec": {
   "display_name": "Python 3",
   "language": "python",
   "name": "python3"
  },
  "language_info": {
   "codemirror_mode": {
    "name": "ipython",
    "version": 3
   },
   "file_extension": ".py",
   "mimetype": "text/x-python",
   "name": "python",
   "nbconvert_exporter": "python",
   "pygments_lexer": "ipython3",
   "version": "3.8.5"
  }
 },
 "nbformat": 4,
 "nbformat_minor": 4
}
